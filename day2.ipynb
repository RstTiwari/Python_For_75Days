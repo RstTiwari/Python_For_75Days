{
  "nbformat": 4,
  "nbformat_minor": 0,
  "metadata": {
    "colab": {
      "provenance": [],
      "collapsed_sections": [
        "shjuhRXQ4p2W",
        "B7IRd7b1EkPX",
        "diWqgL9vH4ab"
      ],
      "toc_visible": true,
      "authorship_tag": "ABX9TyNygmASX7Jt7QXnyMNhd0NU",
      "include_colab_link": true
    },
    "kernelspec": {
      "name": "python3",
      "display_name": "Python 3"
    },
    "language_info": {
      "name": "python"
    }
  },
  "cells": [
    {
      "cell_type": "markdown",
      "metadata": {
        "id": "view-in-github",
        "colab_type": "text"
      },
      "source": [
        "<a href=\"https://colab.research.google.com/github/RstTiwari/Python_For_75Days/blob/master/day2.ipynb\" target=\"_parent\"><img src=\"https://colab.research.google.com/assets/colab-badge.svg\" alt=\"Open In Colab\"/></a>"
      ]
    },
    {
      "cell_type": "markdown",
      "source": [
        "# OOPS KEY CONCEPT"
      ],
      "metadata": {
        "id": "sgG_eokVD2KK"
      }
    },
    {
      "cell_type": "code",
      "source": [
        "#Key Concepts:\n",
        "#Class: A blueprint for creating objects.   CreditCard()\n",
        "#Object: An instance of a class.\n",
        "#Methods: Functions defined within a class.  we call them  member functions\n",
        "#Attributes: Variables that belong to an object or class.  we call them fields, instance variables, or data members\n"
      ],
      "metadata": {
        "id": "FtGLTEd_D71f"
      },
      "execution_count": null,
      "outputs": []
    },
    {
      "cell_type": "markdown",
      "source": [
        "# Object-Oriented Design Principles\n"
      ],
      "metadata": {
        "id": "shjuhRXQ4p2W"
      }
    },
    {
      "cell_type": "code",
      "source": [
        "# ABSTRACTION\n",
        "# ENCAPSULATION\n",
        "# #INHERITANCE\n",
        "# POLYMORPHISM\n"
      ],
      "metadata": {
        "id": "-oeMPP0N4uUo"
      },
      "execution_count": null,
      "outputs": []
    },
    {
      "cell_type": "markdown",
      "source": [
        "# The self Identifier self\n",
        "\n"
      ],
      "metadata": {
        "id": "B7IRd7b1EkPX"
      }
    },
    {
      "cell_type": "code",
      "source": [
        "self # is reserve keyowrd in python as keep the instance for each class just like the  this  of Javscript"
      ],
      "metadata": {
        "id": "2I2yPxwaE-Ud"
      },
      "execution_count": null,
      "outputs": []
    },
    {
      "cell_type": "markdown",
      "source": [
        "# Class CreditCard"
      ],
      "metadata": {
        "id": "diWqgL9vH4ab"
      }
    },
    {
      "cell_type": "code",
      "source": [
        "class CreditCard:\n",
        "  \"Creating Credit Card   class For a Banking Software Solutions\"\n",
        "\n",
        "  def __init__(self,customer,bank,accnt,limit):\n",
        "    \"Creating Credit Card Instane with Following Values\"\n",
        "\n",
        "    \"customer    hold the value of the customer\"\n",
        "    \"bank        bank Details\"\n",
        "    \"balance     Balance of the card \"\n",
        "    \"limit       limit of the card\"\n",
        "    #ENACAPSULATION HIDING THE Outer Access\n",
        "    self._customer = customer   # self._  make customer as NonPublic variable this process of Hiding the values are called\n",
        "    self._bank = bank\n",
        "    self._balance = 0\n",
        "    self._account = accnt\n",
        "    self._limit   = limit\n",
        "\n",
        "  def get_customer(self):\n",
        "    \"Return the Details of the customer\"\n",
        "    return self._customer\n",
        "\n",
        "  def get_bank(self):\n",
        "    \"Return the bank detail of the customer\"\n",
        "    return self._bank\n",
        "\n",
        "  def get_balance(self):\n",
        "    \"Return the Balanc\"\n",
        "    return self._balance\n",
        "\n",
        "  def repayment(self,amount):\n",
        "    \"Repayment of the CreditCard\"\n",
        "    \"Balance can not be greter than Limit after repyment\"\n",
        "    if isinstance(amount,str) or amount <= 0:\n",
        "      raise ValueError(\"Invalid Amount\")\n",
        "      return False\n",
        "\n",
        "    if self._balance + amount > self._limit:\n",
        "      raise ValueError(\"Credit Card Limit Exceed \")\n",
        "      return False\n",
        "    else:\n",
        "      self._balance += amount\n",
        "      return True\n",
        "\n",
        "  def get_limit(self):\n",
        "    \"Return the Limit of the CreditCard\"\n",
        "    return self._limit\n",
        "\n",
        "  def make_payment(self,amount):\n",
        "    \"Deduct the Amount form the Balance\"\n",
        "    if amount == 0 or amount is str:\n",
        "      raise ValueError(\"Invalid Amount for Payment\")\n",
        "    self._balance -= amount\n",
        "\n",
        "\n",
        "\n",
        "\n",
        "cc = CreditCard(\"ROhit tiwar\",\"icici\",\"99284843\",200)\n",
        "\n",
        "try:\n",
        "  print(cc.get_balance(),\"--\")\n",
        "  print(cc.repayment(200),\"--\")\n",
        "  print(cc.get_balance())\n",
        "  print(cc.repayment(10000),\"--\")\n",
        "except ValueError as e:\n",
        "  print(e )\n",
        "\n",
        "\n",
        "\n",
        "\n",
        "\n",
        "\n",
        "\n",
        "\n",
        "\n",
        "\n",
        "\n"
      ],
      "metadata": {
        "colab": {
          "base_uri": "https://localhost:8080/"
        },
        "id": "9ntEgZiXH82y",
        "outputId": "0eee6d01-f668-41cf-fcd1-823441774c9d"
      },
      "execution_count": 19,
      "outputs": [
        {
          "output_type": "stream",
          "name": "stdout",
          "text": [
            "0 --\n",
            "True --\n",
            "200\n",
            "Credit Card Limit Exceed \n"
          ]
        }
      ]
    },
    {
      "cell_type": "code",
      "source": [],
      "metadata": {
        "id": "UnrHbuQXKOwJ"
      },
      "execution_count": null,
      "outputs": []
    },
    {
      "cell_type": "markdown",
      "source": [
        "# Class Vector"
      ],
      "metadata": {
        "id": "XfHjvCFCZke0"
      }
    },
    {
      "cell_type": "code",
      "source": [
        "vec1 = [1,2,4,4,57]\n",
        "vec2 = [2,4,5,7,9]\n",
        "vec_add = vec1+ vec2\n",
        "print(vec_add)  # [1, 2, 4, 4, 57, 2, 4, 5, 7, 9]\n",
        "# basically its add two vales as list\n",
        "# but for vector we need to add the vec1[i] + vec2[i]"
      ],
      "metadata": {
        "colab": {
          "base_uri": "https://localhost:8080/"
        },
        "id": "jqi6qA6yZpCX",
        "outputId": "01cc4014-76a9-4dc2-adc5-2f5ff1171970"
      },
      "execution_count": 20,
      "outputs": [
        {
          "output_type": "stream",
          "name": "stdout",
          "text": [
            "[1, 2, 4, 4, 57, 2, 4, 5, 7, 9]\n"
          ]
        }
      ]
    },
    {
      "cell_type": "markdown",
      "source": [
        "**Now Let Create Vector class to Overcome this method**"
      ],
      "metadata": {
        "id": "Qyuzs1HEaUbx"
      }
    },
    {
      "cell_type": "code",
      "source": [
        "class Vector:\n",
        "  \"Creating Vector class for adding them\"\n",
        "  def __init__(self,coord):\n",
        "    \"Create Vector Instance with the give cord\"\n",
        "    self._coord = [0]*coord\n",
        "\n",
        "  def __get_item__(self,j):     # Magic method\n",
        "    \"Return the Item at the Jth coord\"\n",
        "    return self._coord[j]\n",
        "  def set_item(j):\n",
        "    \"Setting the  jth  coord value\"\n",
        "\n",
        "  def __len__(self):\n",
        "    \"Return the length of the Vector\"\n",
        "    return len(self._coord)\n",
        "  def __eq__(self,other):\n",
        "    \"Checking if given two Vectors are equal\"\n",
        "    if self._coord == other:\n",
        "      return True\n",
        "    else:\n",
        "      return False\n",
        "\n",
        "  def __ne__(self , other):\n",
        "    \"Checking if the Given two Vectors are not Equal\"\n",
        "    if self._coord != other:\n",
        "      return True\n",
        "    else:\n",
        "      return False\n",
        "\n",
        "  def __add__(self,other):\n",
        "    \"Adding the both Vectors\"\n",
        "    if len(self) != len(other):\n",
        "      raise ValueError(\"Vectors can not be added\")\n",
        "      result = Vector(len(self)) # Initalizing a new Vector of lenght\n",
        "    for j in range(len(other)):\n",
        "      result[j] = self[j]+other[j]\n",
        "\n",
        "\n",
        "\n",
        "\n",
        "\n",
        "\n"
      ],
      "metadata": {
        "colab": {
          "base_uri": "https://localhost:8080/",
          "height": 106
        },
        "id": "PvMjbmgUaQJY",
        "outputId": "28a7082a-1df6-4676-8dec-c6de1e91fe72"
      },
      "execution_count": 1,
      "outputs": [
        {
          "output_type": "error",
          "ename": "SyntaxError",
          "evalue": "incomplete input (<ipython-input-1-67f490b5a4d6>, line 35)",
          "traceback": [
            "\u001b[0;36m  File \u001b[0;32m\"<ipython-input-1-67f490b5a4d6>\"\u001b[0;36m, line \u001b[0;32m35\u001b[0m\n\u001b[0;31m    \u001b[0m\n\u001b[0m    ^\u001b[0m\n\u001b[0;31mSyntaxError\u001b[0m\u001b[0;31m:\u001b[0m incomplete input\n"
          ]
        }
      ]
    },
    {
      "cell_type": "code",
      "source": [],
      "metadata": {
        "id": "m37r1a2NcrsV"
      },
      "execution_count": null,
      "outputs": []
    }
  ]
}