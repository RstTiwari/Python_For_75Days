{
  "nbformat": 4,
  "nbformat_minor": 0,
  "metadata": {
    "colab": {
      "provenance": [],
      "toc_visible": true,
      "authorship_tag": "ABX9TyMfpjNUJd0+zOdkad2mJly8",
      "include_colab_link": true
    },
    "kernelspec": {
      "name": "python3",
      "display_name": "Python 3"
    },
    "language_info": {
      "name": "python"
    }
  },
  "cells": [
    {
      "cell_type": "markdown",
      "metadata": {
        "id": "view-in-github",
        "colab_type": "text"
      },
      "source": [
        "<a href=\"https://colab.research.google.com/github/RstTiwari/Python_For_75Days/blob/master/day2.ipynb\" target=\"_parent\"><img src=\"https://colab.research.google.com/assets/colab-badge.svg\" alt=\"Open In Colab\"/></a>"
      ]
    },
    {
      "cell_type": "markdown",
      "source": [
        "#OOPS IN PYTHON"
      ],
      "metadata": {
        "id": "shjuhRXQ4p2W"
      }
    },
    {
      "cell_type": "code",
      "source": [],
      "metadata": {
        "id": "-oeMPP0N4uUo"
      },
      "execution_count": null,
      "outputs": []
    }
  ]
}