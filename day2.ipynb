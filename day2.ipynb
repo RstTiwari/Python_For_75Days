{
  "nbformat": 4,
  "nbformat_minor": 0,
  "metadata": {
    "colab": {
      "provenance": [],
      "collapsed_sections": [
        "shjuhRXQ4p2W",
        "B7IRd7b1EkPX",
        "diWqgL9vH4ab",
        "XfHjvCFCZke0",
        "NAdcpoL85PTS"
      ],
      "toc_visible": true,
      "authorship_tag": "ABX9TyO2TFiqtq+2w0qxzsp/7ugy",
      "include_colab_link": true
    },
    "kernelspec": {
      "name": "python3",
      "display_name": "Python 3"
    },
    "language_info": {
      "name": "python"
    }
  },
  "cells": [
    {
      "cell_type": "markdown",
      "metadata": {
        "id": "view-in-github",
        "colab_type": "text"
      },
      "source": [
        "<a href=\"https://colab.research.google.com/github/RstTiwari/Python_For_75Days/blob/master/day2.ipynb\" target=\"_parent\"><img src=\"https://colab.research.google.com/assets/colab-badge.svg\" alt=\"Open In Colab\"/></a>"
      ]
    },
    {
      "cell_type": "markdown",
      "source": [
        "# OOPS KEY CONCEPT"
      ],
      "metadata": {
        "id": "sgG_eokVD2KK"
      }
    },
    {
      "cell_type": "code",
      "source": [
        "#Key Concepts:\n",
        "#Class: A blueprint for creating objects.   CreditCard()\n",
        "#Object: An instance of a class.\n",
        "#Methods: Functions defined within a class.  we call them  member functions\n",
        "#Attributes: Variables that belong to an object or class.  we call them fields, instance variables, or data members\n"
      ],
      "metadata": {
        "id": "FtGLTEd_D71f"
      },
      "execution_count": null,
      "outputs": []
    },
    {
      "cell_type": "markdown",
      "source": [
        "# Object-Oriented Design Principles\n"
      ],
      "metadata": {
        "id": "shjuhRXQ4p2W"
      }
    },
    {
      "cell_type": "code",
      "source": [
        "# ABSTRACTION\n",
        "# ENCAPSULATION\n",
        "# #INHERITANCE\n",
        "# POLYMORPHISM\n"
      ],
      "metadata": {
        "id": "-oeMPP0N4uUo"
      },
      "execution_count": null,
      "outputs": []
    },
    {
      "cell_type": "markdown",
      "source": [
        "# The self Identifier self\n",
        "\n"
      ],
      "metadata": {
        "id": "B7IRd7b1EkPX"
      }
    },
    {
      "cell_type": "code",
      "source": [
        "self # is reserve keyowrd in python as keep the instance for each class just like the  this  of Javscript"
      ],
      "metadata": {
        "id": "2I2yPxwaE-Ud"
      },
      "execution_count": null,
      "outputs": []
    },
    {
      "cell_type": "markdown",
      "source": [
        "# Class CreditCard"
      ],
      "metadata": {
        "id": "diWqgL9vH4ab"
      }
    },
    {
      "cell_type": "code",
      "source": [
        "class CreditCard:\n",
        "  \"Creating Credit Card   class For a Banking Software Solutions\"\n",
        "\n",
        "  def __init__(self,customer,bank,accnt,limit):\n",
        "    \"Creating Credit Card Instane with Following Values\"\n",
        "\n",
        "    \"customer    hold the value of the customer\"\n",
        "    \"bank        bank Details\"\n",
        "    \"balance     Balance of the card \"\n",
        "    \"limit       limit of the card\"\n",
        "    #ENACAPSULATION HIDING THE Outer Access\n",
        "    self._customer = customer   # self._  make customer as NonPublic variable this process of Hiding the values are called\n",
        "    self._bank = bank\n",
        "    self._balance = 0\n",
        "    self._account = accnt\n",
        "    self._limit   = limit\n",
        "\n",
        "  def get_customer(self):\n",
        "    \"Return the Details of the customer\"\n",
        "    return self._customer\n",
        "\n",
        "  def get_bank(self):\n",
        "    \"Return the bank detail of the customer\"\n",
        "    return self._bank\n",
        "\n",
        "  def get_balance(self):\n",
        "    \"Return the Balanc\"\n",
        "    return self._balance\n",
        "\n",
        "  def repayment(self,amount):\n",
        "    \"Repayment of the CreditCard\"\n",
        "    \"Balance can not be greter than Limit after repyment\"\n",
        "    if isinstance(amount,str) or amount <= 0:\n",
        "      raise ValueError(\"Invalid Amount\")\n",
        "      return False\n",
        "\n",
        "    if self._balance + amount > self._limit:\n",
        "      raise ValueError(\"Credit Card Limit Exceed \")\n",
        "      return False\n",
        "    else:\n",
        "      self._balance += amount\n",
        "      return True\n",
        "\n",
        "  def get_limit(self):\n",
        "    \"Return the Limit of the CreditCard\"\n",
        "    return self._limit\n",
        "\n",
        "  def make_payment(self,amount):\n",
        "    \"Deduct the Amount form the Balance\"\n",
        "    if amount == 0 or amount is str:\n",
        "      raise ValueError(\"Invalid Amount for Payment\")\n",
        "    self._balance -= amount\n",
        "\n",
        "\n",
        "\n",
        "\n",
        "cc = CreditCard(\"ROhit tiwar\",\"icici\",\"99284843\",200)\n",
        "\n",
        "try:\n",
        "  print(cc.get_balance(),\"--\")\n",
        "  print(cc.repayment(200),\"--\")\n",
        "  print(cc.get_balance())\n",
        "  print(cc.repayment(10000),\"--\")\n",
        "except ValueError as e:\n",
        "  print(e )\n",
        "\n",
        "\n",
        "\n",
        "\n",
        "\n",
        "\n",
        "\n",
        "\n",
        "\n",
        "\n",
        "\n"
      ],
      "metadata": {
        "colab": {
          "base_uri": "https://localhost:8080/"
        },
        "id": "9ntEgZiXH82y",
        "outputId": "73d1af6b-2fe0-4029-bd4c-4547b6028792"
      },
      "execution_count": null,
      "outputs": [
        {
          "output_type": "stream",
          "name": "stdout",
          "text": [
            "0 --\n",
            "True --\n",
            "200\n",
            "Credit Card Limit Exceed \n"
          ]
        }
      ]
    },
    {
      "cell_type": "code",
      "source": [],
      "metadata": {
        "id": "UnrHbuQXKOwJ"
      },
      "execution_count": null,
      "outputs": []
    },
    {
      "cell_type": "markdown",
      "source": [
        "# Class Vector"
      ],
      "metadata": {
        "id": "XfHjvCFCZke0"
      }
    },
    {
      "cell_type": "code",
      "source": [
        "vec1 = [1,2,4,4,57]\n",
        "vec2 = [2,4,5,7,9]\n",
        "vec_add = vec1+ vec2\n",
        "print(vec_add)  # [1, 2, 4, 4, 57, 2, 4, 5, 7, 9]\n",
        "# basically its add two vales as list\n",
        "# but for vector we need to add the vec1[i] + vec2[i]"
      ],
      "metadata": {
        "colab": {
          "base_uri": "https://localhost:8080/"
        },
        "id": "jqi6qA6yZpCX",
        "outputId": "d4b86154-aa51-416a-b648-bd5c85c6d29d"
      },
      "execution_count": null,
      "outputs": [
        {
          "output_type": "stream",
          "name": "stdout",
          "text": [
            "[1, 2, 4, 4, 57, 2, 4, 5, 7, 9]\n"
          ]
        }
      ]
    },
    {
      "cell_type": "markdown",
      "source": [
        "**Now Let Create Vector class to Overcome this method**"
      ],
      "metadata": {
        "id": "Qyuzs1HEaUbx"
      }
    },
    {
      "cell_type": "code",
      "source": [
        "class Vector:\n",
        "  \"Creating Vector class for adding them\"\n",
        "  def __init__(self,coord):\n",
        "    \"Create Vector Instance with the give cord\"\n",
        "    self._coord = [0]*coord\n",
        "\n",
        "  def __get_item__(self,j):     # Magic method\n",
        "    \"Return the Item at the Jth coord\"\n",
        "    return self._coord[j]\n",
        "  def set_item(j):\n",
        "    \"Setting the  jth  coord value\"\n",
        "\n",
        "  def __len__(self):\n",
        "    \"Return the length of the Vector\"\n",
        "    return len(self._coord)\n",
        "  def __eq__(self,other):\n",
        "    \"Checking if given two Vectors are equal\"\n",
        "    if self._coord == other:\n",
        "      return True\n",
        "    else:\n",
        "      return False\n",
        "\n",
        "  def __ne__(self , other):\n",
        "    \"Checking if the Given two Vectors are not Equal\"\n",
        "    if self._coord != other:\n",
        "      return True\n",
        "    else:\n",
        "      return False\n",
        "\n",
        "  def __add__(self,other):\n",
        "    \"Adding the both Vectors\"\n",
        "    if len(self) != len(other):\n",
        "      raise ValueError(\"Vectors can not be added\")\n",
        "\n",
        "    result = Vector(len(self)) # Initalizing a new Vector of lenght\n",
        "    for j in range(len(other)):\n",
        "      result[j] = self[j]+other[j]\n",
        "      return result\n",
        "\n",
        "v1 = Vector(5)\n",
        "print(v1.__len__())\n",
        "\n",
        "\n",
        "\n",
        "\n",
        "\n"
      ],
      "metadata": {
        "colab": {
          "base_uri": "https://localhost:8080/"
        },
        "id": "PvMjbmgUaQJY",
        "outputId": "e79a014d-7600-4ca3-f6e8-c42a2a76b622"
      },
      "execution_count": null,
      "outputs": [
        {
          "output_type": "stream",
          "name": "stdout",
          "text": [
            "5\n"
          ]
        }
      ]
    },
    {
      "cell_type": "markdown",
      "source": [
        "# SubClass  For CreditCard class  Inheritance Feature"
      ],
      "metadata": {
        "id": "NAdcpoL85PTS"
      }
    },
    {
      "cell_type": "code",
      "source": [
        "# here we will exculte a predtory sub class\n",
        "\n",
        "class PredatoryCreditCard(CreditCard):\n",
        "  \"Creating a subclass Where i will OverWrite the repayment method \"\n",
        "  def __init__(self, customer,bank,accnt,limit,apr):\n",
        "    super().__init__(customer,bank,accnt,limit) # Calling super constructor\n",
        "    self._apr = apr\n",
        "\n",
        "  def repayment(self,price):\n",
        "    success = super().repayment(price)\n",
        "    if not success:\n",
        "      raise ValueError(\"Repayent failed\")\n",
        "    else:\n",
        "      self._balance += 5  #Increating Balance for each failed Amount\n",
        "\n",
        "  def process_month(self):\n",
        "    month_factor = pow(self._apr ,1/2)\n",
        "    self._balance *= month_factor\n",
        "\n",
        "try:\n",
        "  predaotry_card = PredatoryCreditCard(\"Vaibhav\",\"HDFC\",\"1234\",2000,10)\n",
        "  predaotry_card.repayment(200)\n",
        "  print(predaotry_card.get_balance())\n",
        "except ValueError as e:\n",
        "  print(e)\n",
        "\n",
        "\n",
        "\n",
        "\n",
        "\n",
        "\n"
      ],
      "metadata": {
        "colab": {
          "base_uri": "https://localhost:8080/"
        },
        "id": "7N-yASv25Urv",
        "outputId": "a8f9b4d8-5903-48b9-e87b-fd3255d8d349"
      },
      "execution_count": null,
      "outputs": [
        {
          "output_type": "stream",
          "name": "stdout",
          "text": [
            "205\n"
          ]
        }
      ]
    },
    {
      "cell_type": "code",
      "source": [],
      "metadata": {
        "id": "m37r1a2NcrsV"
      },
      "execution_count": null,
      "outputs": []
    },
    {
      "cell_type": "markdown",
      "source": [
        "# class Progression  "
      ],
      "metadata": {
        "id": "V24vrePnHb5K"
      }
    },
    {
      "cell_type": "code",
      "source": [
        "#Pogression is class where we just get next number countionsly incresing by 1\n",
        "\n",
        "class Progression:\n",
        "  \"Creating A progression Class\"\n",
        "\n",
        "  def __init__(self,start=0):\n",
        "    \"Creating a instance of Progression class\"\n",
        "    self._current = start\n",
        "\n",
        "  def advance(self):\n",
        "    \"In this method will increse the value by i\"\n",
        "    self._current += 1\n",
        "  def __next__(self):\n",
        "    \"just Get the next value of the Progression\"\n",
        "    if self._current is None:\n",
        "      raise StopIteration()\n",
        "    else:\n",
        "      answer =  self._current\n",
        "      self.advance()\n",
        "      return answer\n",
        "\n",
        "\n",
        "  # def __iter__ (self):\n",
        "  #   \"As Per the Defination a iter method must return it self as itrretor\"\n",
        "  #   return self\n",
        "\n",
        "\n",
        "  def print_progression(self,n):\n",
        "    \"Just Print the all values in the Given Progression as an String\"\n",
        "    for j in range(n):\n",
        "      print(next(self))\n",
        "\n",
        "\n",
        "progression = Progression(3)\n",
        "progression.print_progression(15)\n",
        "\n",
        "\n",
        "\n",
        "\n",
        "\n",
        "\n",
        "\n",
        "\n"
      ],
      "metadata": {
        "colab": {
          "base_uri": "https://localhost:8080/"
        },
        "id": "bLg5UpQKHhfu",
        "outputId": "d73154d7-a1fe-498c-9625-0ba65a12ea30"
      },
      "execution_count": null,
      "outputs": [
        {
          "output_type": "stream",
          "name": "stdout",
          "text": [
            "3\n",
            "4\n",
            "5\n",
            "6\n",
            "7\n",
            "8\n",
            "9\n",
            "10\n",
            "11\n",
            "12\n",
            "13\n",
            "14\n",
            "15\n",
            "16\n",
            "17\n"
          ]
        }
      ]
    },
    {
      "cell_type": "markdown",
      "source": [
        "There are three Types of Progression\n",
        "\n",
        "1) Arethmetic - add on the Value with a constant\n",
        "\n",
        "2) Geometirc - multiply the all number with giv en constant\n",
        "\n",
        "3) Fibonci   - addin current and Previous value to get next value"
      ],
      "metadata": {
        "id": "2KsJGHosnXi6"
      }
    },
    {
      "cell_type": "code",
      "source": [
        "class Arthmetic(Progression):\n",
        "  \"Created  Arthmetic class which inherted Progression Base class\"\n",
        "  def __init__(self,increment = 1, start = 0 ,):\n",
        "    super().__init__(start)\n",
        "    self._increment = increment\n",
        "\n",
        "  def advance(self):\n",
        "    self._current += self._increment\n",
        "\n",
        "arethmetic_pro = Arthmetic(5,0)\n",
        "arethmetic_pro.print_progression(10)\n",
        "\n"
      ],
      "metadata": {
        "colab": {
          "base_uri": "https://localhost:8080/"
        },
        "id": "FkyamkVPnVBd",
        "outputId": "999141fd-958e-45fe-8b64-ee4bc0bd2f90"
      },
      "execution_count": null,
      "outputs": [
        {
          "output_type": "stream",
          "name": "stdout",
          "text": [
            "0\n",
            "5\n",
            "10\n",
            "15\n",
            "20\n",
            "25\n",
            "30\n",
            "35\n",
            "40\n",
            "45\n"
          ]
        }
      ]
    },
    {
      "cell_type": "code",
      "source": [
        "class GeometicProgression(Progression):\n",
        "  \"Defining the Geomrtic Progression Class\"\n",
        "  def __init__(self, multiplier,start= 0):\n",
        "    super().__init__(start)\n",
        "    self._multiplier = multiplier\n",
        "\n",
        "  def advance(self):\n",
        "      self._current *= self._multiplier\n",
        "\n",
        "geomtric_progression = GeometicProgression(5,1)\n",
        "geomtric_progression.print_progression(10)"
      ],
      "metadata": {
        "colab": {
          "base_uri": "https://localhost:8080/"
        },
        "id": "Qt5-oLWmoCKC",
        "outputId": "7b351ded-7cf6-4dea-b33a-6980b76c7ef3"
      },
      "execution_count": null,
      "outputs": [
        {
          "output_type": "stream",
          "name": "stdout",
          "text": [
            "1\n",
            "5\n",
            "25\n",
            "125\n",
            "625\n",
            "3125\n",
            "15625\n",
            "78125\n",
            "390625\n",
            "1953125\n"
          ]
        }
      ]
    },
    {
      "cell_type": "code",
      "source": [
        "class FibonciProgression(Progression):\n",
        "  \"Class For Priniting the Fibonic Numbers with the base Class of Progression\"\n",
        "\n",
        "  def __init__(self,prv = 0 , next = 1):\n",
        "    super().__init__(self)\n",
        "    self._prv = prv\n",
        "    self._next = next\n",
        "\n",
        "  def advance(self):\n",
        "    self._current = self._prv\n",
        "    self._prv ,self._next = self._next , self._prv + self._next\n",
        "\n",
        "fib_ser = FibonciProgression(4,6)\n",
        "fib_ser.print_progression(10)"
      ],
      "metadata": {
        "colab": {
          "base_uri": "https://localhost:8080/"
        },
        "id": "7WSNPvdNsM85",
        "outputId": "4f8e5543-d218-493f-9c34-6e403393874f"
      },
      "execution_count": null,
      "outputs": [
        {
          "output_type": "stream",
          "name": "stdout",
          "text": [
            "<__main__.FibonciProgression object at 0x7b3d6eac43d0>\n",
            "4\n",
            "6\n",
            "10\n",
            "16\n",
            "26\n",
            "42\n",
            "68\n",
            "110\n",
            "178\n"
          ]
        }
      ]
    },
    {
      "cell_type": "code",
      "source": [
        "import os\n",
        "os.chdir(\"/content/Python_For_75Days\")"
      ],
      "metadata": {
        "id": "h85aYsMQ-ZKi"
      },
      "execution_count": null,
      "outputs": []
    },
    {
      "cell_type": "code",
      "source": [],
      "metadata": {
        "id": "59Mq129cAyL6",
        "outputId": "1b525ad6-cc5c-4798-c6ea-2b26a13a2c21",
        "colab": {
          "base_uri": "https://localhost:8080/",
          "height": 36
        }
      },
      "execution_count": null,
      "outputs": [
        {
          "output_type": "execute_result",
          "data": {
            "text/plain": [
              "'/content/Python_For_75Days'"
            ],
            "application/vnd.google.colaboratory.intrinsic+json": {
              "type": "string"
            }
          },
          "metadata": {},
          "execution_count": 66
        }
      ]
    }
  ]
}